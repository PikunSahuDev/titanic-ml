# Step 1: Import Libraries
import pandas as pd
import numpy as np
import seaborn as sns
import matplotlib.pyplot as plt
from sklearn.model_selection import train_test_split
from sklearn.linear_model import LogisticRegression
from sklearn.metrics import accuracy_score, confusion_matrix

# Step 2: Load Dataset
df = sns.load_dataset('titanic')
print(df.head())

# Step 3: Preprocessing
# Drop rows with missing age and embark_town
df = df.dropna(subset=['age', 'embark_town'])

# Encode 'sex' column: male = 0, female = 1
df['sex'] = df['sex'].map({'male': 0, 'female': 1})

# Encode 'embarked' column
df['embarked'] = df['embarked'].map({'S': 0, 'C': 1, 'Q': 2})

# Select features and target
X = df[['pclass', 'sex', 'age', 'sibsp', 'parch', 'fare']]
y = df['survived']

# Step 4: Train-Test Split
X_train, X_test, y_train, y_test = train_test_split(X, y, test_size=0.2, random_state=42)

# Step 5: Model Training
model = LogisticRegression()
model.fit(X_train, y_train)

# Step 6: Predictions & Accuracy
y_pred = model.predict(X_test)
print("Accuracy:", accuracy_score(y_test, y_pred))

# Confusion Matrix
cm = confusion_matrix(y_test, y_pred)
sns.heatmap(cm, annot=True, fmt="d", cmap="Blues")
plt.title("Confusion Matrix")
plt.xlabel("Predicted")
plt.ylabel("Actual")
plt.show()

# Step 7: Plot Survival by Gender
sns.barplot(x="sex", y="survived", data=df)
plt.title("Survival Rate by Gender")
plt.xticks([0, 1], ['Male', 'Female'])
plt.show()
